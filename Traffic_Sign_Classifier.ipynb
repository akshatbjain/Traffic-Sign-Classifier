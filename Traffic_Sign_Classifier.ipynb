{
 "cells": [
  {
   "cell_type": "markdown",
   "metadata": {},
   "source": [
    "# Traffic Sign Classifier"
   ]
  },
  {
   "cell_type": "markdown",
   "metadata": {},
   "source": [
    "## Step 0: Load The Data"
   ]
  },
  {
   "cell_type": "code",
   "execution_count": 1,
   "metadata": {},
   "outputs": [
    {
     "name": "stdout",
     "output_type": "stream",
     "text": [
      "Loaded dataset successfully!\n"
     ]
    }
   ],
   "source": [
    "# Load pickled data\n",
    "import pickle\n",
    "import numpy as np\n",
    "\n",
    "training_file = 'Dataset/train.p'\n",
    "validation_file = 'Dataset/valid.p'\n",
    "testing_file = 'Dataset/test.p'\n",
    "\n",
    "with open(training_file, mode='rb') as f:\n",
    "    train = pickle.load(f)\n",
    "with open(validation_file, mode='rb') as f:\n",
    "    valid = pickle.load(f)\n",
    "with open(testing_file, mode='rb') as f:\n",
    "    test = pickle.load(f)\n",
    "    \n",
    "X_train, y_train = train['features'], train['labels']\n",
    "X_valid, y_valid = valid['features'], valid['labels']\n",
    "X_test, y_test = test['features'], test['labels']\n",
    "\n",
    "print('Loaded dataset successfully!')"
   ]
  },
  {
   "cell_type": "markdown",
   "metadata": {},
   "source": [
    "## Step 1: Dataset Summary & Exploration\n",
    "\n",
    "The pickled data is a dictionary with 4 key/value pairs:\n",
    "\n",
    "- `'features'` is a 4D array containing raw pixel data of the traffic sign images, (num examples, width, height, channels).\n",
    "- `'labels'` is a 1D array containing the label/class id of the traffic sign. The file `signnames.csv` contains id -> name mappings for each id.\n",
    "- `'sizes'` is a list containing tuples, (width, height) representing the original width and height the image.\n",
    "- `'coords'` is a list containing tuples, (x1, y1, x2, y2) representing coordinates of a bounding box around the sign in the image. **THESE COORDINATES ASSUME THE ORIGINAL IMAGE. THE PICKLED DATA CONTAINS RESIZED VERSIONS (32 by 32) OF THESE IMAGES**\n",
    "---\n",
    "### Basic Summary of the Data Set"
   ]
  },
  {
   "cell_type": "code",
   "execution_count": 2,
   "metadata": {},
   "outputs": [
    {
     "name": "stdout",
     "output_type": "stream",
     "text": [
      "Number of training examples = 34799\n",
      "Number of testing examples = 12630\n",
      "Image data shape = (32, 32, 3)\n",
      "Number of classes = 43\n"
     ]
    }
   ],
   "source": [
    "# Number of training examples\n",
    "n_train =  len(X_train)\n",
    "# Number of validation examples\n",
    "n_validation = len(X_valid)\n",
    "# Number of testing examples.\n",
    "n_test = len(X_test)\n",
    "\n",
    "# Check if number of inputs match number of outputs/labels\n",
    "assert n_train == len(y_train)\n",
    "assert n_validation == len(y_valid)\n",
    "assert n_test == len(y_test)\n",
    "\n",
    "# Shape of a traffic sign image\n",
    "image_shape = X_train[0].shape\n",
    "\n",
    "# Check if shape is constant for training, validation and testing data\n",
    "assert X_train[0].shape == X_valid[0].shape == X_test[0].shape\n",
    "\n",
    "# Unique classes/labels that are there in the dataset\n",
    "with open('signnames.csv', mode='rb') as f:\n",
    "    n_classes = sum(1 for row in f) - 1\n",
    "\n",
    "print(\"Number of training examples =\", n_train)\n",
    "print(\"Number of testing examples =\", n_test)\n",
    "print(\"Image data shape =\", image_shape)\n",
    "print(\"Number of classes =\", n_classes)"
   ]
  },
  {
   "cell_type": "markdown",
   "metadata": {},
   "source": [
    "---\n",
    "### Visualizing the German Traffic Signs Dataset"
   ]
  },
  {
   "cell_type": "code",
   "execution_count": 3,
   "metadata": {},
   "outputs": [
    {
     "data": {
      "text/plain": [
       "<matplotlib.legend.Legend at 0x7fadb3149f98>"
      ]
     },
     "execution_count": 3,
     "metadata": {},
     "output_type": "execute_result"
    },
    {
     "data": {
      "image/png": "[encoded data removed]",
      "text/plain": [
       "<matplotlib.figure.Figure at 0x7fadec11c438>"
      ]
     },
     "metadata": {},
     "output_type": "display_data"
    },
    {
     "data": {
      "image/png": "[encoded data removed]",
      "text/plain": [
       "<matplotlib.figure.Figure at 0x7fadb31f6b00>"
      ]
     },
     "metadata": {},
     "output_type": "display_data"
    }
   ],
   "source": [
    "import matplotlib.pyplot as plt\n",
    "import random\n",
    "import pandas as pd\n",
    "# Visualizations will be shown in the notebook.\n",
    "%matplotlib inline\n",
    "\n",
    "df = pd.read_csv('signnames.csv')\n",
    "label_names = df.SignName.as_matrix()\n",
    "\n",
    "# Visualize a random sample from the training dataset\n",
    "index = random.randint(0, len(X_train))\n",
    "image = X_train[index].squeeze()\n",
    "plt.figure(figsize=(3,3))\n",
    "plt.title(label_names[y_train[index]])\n",
    "plt.imshow(image, cmap=\"gray\")\n",
    "\n",
    "# Viualize distribution of data points in the training, validation and test dataset\n",
    "train_bin = np.bincount(y_train)\n",
    "valid_bin = np.bincount(y_valid)\n",
    "test_bin = np.bincount(y_test)\n",
    "\n",
    "index = np.arange(n_classes)\n",
    "width = 0.25\n",
    "\n",
    "plt.figure(figsize=(12,6))\n",
    "plt.bar(index, train_bin, align='center', alpha=0.5, label='Training set')\n",
    "plt.bar(index, valid_bin, align='center', alpha=0.5, label='Validation set')\n",
    "plt.bar(index, test_bin, align='center', alpha=0.5, label='Testing set')\n",
    "plt.title('Distribution of data points')\n",
    "plt.xlabel('Classes')\n",
    "plt.ylabel('Number of data points')\n",
    "plt.legend()"
   ]
  },
  {
   "cell_type": "markdown",
   "metadata": {},
   "source": [
    "----\n",
    "\n",
    "## Step 2: Design and Test a Model Architecture\n",
    "\n",
    "There are various aspects to consider when thinking about this problem:\n",
    "\n",
    "- Neural network architecture (is the network over or underfitting?)\n",
    "- Play around preprocessing techniques (normalization, rgb to grayscale, etc)\n",
    "- Number of examples per label (some have more than others).\n",
    "- Generate fake data.\n",
    "\n",
    "Here is an example of a [published baseline model on this problem](http://yann.lecun.com/exdb/publis/pdf/sermanet-ijcnn-11.pdf). It's not required to be familiar with the approach used in the paper but, it's good practice to try to read papers like these."
   ]
  },
  {
   "cell_type": "markdown",
   "metadata": {},
   "source": [
    "---\n",
    "### Pre-process the Data Set\n",
    "Minimally, the image data should be normalized so that the data has mean zero and equal variance."
   ]
  },
  {
   "cell_type": "code",
   "execution_count": 4,
   "metadata": {
    "collapsed": true
   },
   "outputs": [],
   "source": [
    "import cv2\n",
    "\n",
    "def rgb_2_gray(input_array):\n",
    "    \"\"\"\n",
    "    Function to convert array of images from rgb to gray scale\n",
    "    \"\"\"\n",
    "    n_images, img_width, img_height, n_channels = input_array.shape\n",
    "    \n",
    "    gray = np.empty([n_images, img_width, img_height])\n",
    "    for n_img in range(n_images):\n",
    "        gray[n_img] = cv2.cvtColor(input_array[n_img], cv2.COLOR_BGR2GRAY)\n",
    "    \n",
    "    return np.expand_dims(gray, axis=3)\n",
    "\n",
    "def normalize_gray(gray):\n",
    "    \"\"\"\n",
    "    Function to normalize all pixel values\n",
    "    \"\"\"\n",
    "    return (gray - 128.0)/128.0"
   ]
  },
  {
   "cell_type": "code",
   "execution_count": 5,
   "metadata": {},
   "outputs": [
    {
     "name": "stdout",
     "output_type": "stream",
     "text": [
      "Before preprocessing:\n",
      "Training set: (34799, 32, 32, 3)\n",
      "Validation set: (4410, 32, 32, 3)\n",
      "Testing set: (12630, 32, 32, 3)\n",
      "\n",
      "After preprocessing:\n",
      "Training set: (34799, 32, 32, 1)\n",
      "Validation set: (4410, 32, 32, 1)\n",
      "Testing set: (12630, 32, 32, 1)\n",
      "\n",
      "Preprocessing done!\n"
     ]
    }
   ],
   "source": [
    "# Preprocess training, validation and testing images\n",
    "print('Before preprocessing:')\n",
    "print('Training set:', X_train.shape)\n",
    "print('Validation set:', X_valid.shape)\n",
    "print('Testing set:', X_test.shape)\n",
    "print()\n",
    "\n",
    "X_train = rgb_2_gray(X_train)\n",
    "X_train = normalize_gray(X_train)\n",
    "\n",
    "X_valid = rgb_2_gray(X_valid)\n",
    "X_valid = normalize_gray(X_valid)\n",
    "\n",
    "X_test = rgb_2_gray(X_test)\n",
    "X_test = normalize_gray(X_test)\n",
    "\n",
    "print('After preprocessing:')\n",
    "print('Training set:', X_train.shape)\n",
    "print('Validation set:', X_valid.shape)\n",
    "print('Testing set:', X_test.shape)\n",
    "print()\n",
    "print('Preprocessing done!')"
   ]
  },
  {
   "cell_type": "markdown",
   "metadata": {},
   "source": [
    "### Model Architecture"
   ]
  },
  {
   "cell_type": "code",
   "execution_count": 6,
   "metadata": {
    "collapsed": true
   },
   "outputs": [],
   "source": [
    "import tensorflow as tf\n",
    "\n",
    "def convNet(x, keep_prob):    \n",
    "    # Arguments used for tf.truncated_normal, randomly defines variables for the weights and biases for each layer\n",
    "    mu = 0\n",
    "    sigma = 0.1\n",
    "    \n",
    "    weights = {\n",
    "        'w_conv1': tf.Variable(tf.truncated_normal([3, 3, 1, 16], mean=mu, stddev=sigma)),\n",
    "        'w_conv2': tf.Variable(tf.truncated_normal([3, 3, 16, 16], mean=mu, stddev=sigma)),\n",
    "        'w_conv3': tf.Variable(tf.truncated_normal([3, 3, 16, 32], mean=mu, stddev=sigma)),\n",
    "        'w_conv4': tf.Variable(tf.truncated_normal([3, 3, 32, 32], mean=mu, stddev=sigma)),\n",
    "        'w_conv5': tf.Variable(tf.truncated_normal([3, 3, 32, 64], mean=mu, stddev=sigma)),\n",
    "        'w_conv6': tf.Variable(tf.truncated_normal([3, 3, 64, 64], mean=mu, stddev=sigma)),\n",
    "        'w_dense1': tf.Variable(tf.truncated_normal([576, 256], mean=mu, stddev=sigma)),\n",
    "        'w_dense2': tf.Variable(tf.truncated_normal([256, 128], mean=mu, stddev=sigma)),\n",
    "        'w_dense3': tf.Variable(tf.truncated_normal([128, n_classes], mean=mu, stddev=sigma))\n",
    "    }\n",
    "\n",
    "    biases = {\n",
    "        'b_conv1': tf.Variable(tf.constant(shape=[16], value=0.1, dtype=tf.float32)),\n",
    "        'b_conv2': tf.Variable(tf.constant(shape=[16], value=0.1, dtype=tf.float32)),\n",
    "        'b_conv3': tf.Variable(tf.constant(shape=[32], value=0.1, dtype=tf.float32)),\n",
    "        'b_conv4': tf.Variable(tf.constant(shape=[32], value=0.1, dtype=tf.float32)),\n",
    "        'b_conv5': tf.Variable(tf.constant(shape=[64], value=0.1, dtype=tf.float32)),\n",
    "        'b_conv6': tf.Variable(tf.constant(shape=[64], value=0.1, dtype=tf.float32)),\n",
    "        'b_dense1': tf.Variable(tf.constant(shape=[256], value=0.1, dtype=tf.float32)),\n",
    "        'b_dense2': tf.Variable(tf.constant(shape=[128], value=0.1, dtype=tf.float32)),\n",
    "        'b_dense3': tf.Variable(tf.constant(shape=[n_classes], value=0.1, dtype=tf.float32))\n",
    "    }\n",
    "    \n",
    "    # Layer 1: Convolutional. Input = 32x32x1. Output = 30x30x16\n",
    "    conv1 = tf.nn.conv2d(x, weights['w_conv1'], strides=[1, 1, 1, 1], padding='VALID')\n",
    "    conv1 = tf.nn.relu(tf.nn.bias_add(conv1, biases['b_conv1']))\n",
    "    \n",
    "    # Layer 2: Convolutional. Output = 28x28x16\n",
    "    conv2 = tf.nn.conv2d(conv1, weights['w_conv2'], strides=[1, 1, 1, 1], padding='VALID')\n",
    "    conv2 = tf.nn.relu(tf.nn.bias_add(conv2, biases['b_conv2']))\n",
    "    \n",
    "    # Layer 3: Convolutional. Output = 26x26x32\n",
    "    conv3 = tf.nn.conv2d(conv2, weights['w_conv3'], strides=[1, 1, 1, 1], padding='VALID')\n",
    "    conv3 = tf.nn.relu(tf.nn.bias_add(conv3, biases['b_conv3']))\n",
    "    \n",
    "    # Pooling. Input = 26x26x32. Output = 13x13x32.\n",
    "    conv3 = tf.nn.max_pool(conv3, ksize=[1, 2, 2, 1], strides=[1, 2, 2, 1], padding='VALID')\n",
    "    conv3 = tf.nn.dropout(conv3, keep_prob)\n",
    "    \n",
    "    # Layer 4: Convolutional. Output = 11x11x32.\n",
    "    conv4 = tf.nn.conv2d(conv3, weights['w_conv4'], strides=[1, 1, 1, 1], padding='VALID')\n",
    "    conv4 = tf.nn.relu(tf.nn.bias_add(conv4, biases['b_conv4']))\n",
    "    \n",
    "    # Layer 5: Convolutional. Output = 9x9x64.\n",
    "    conv5 = tf.nn.conv2d(conv4, weights['w_conv5'], strides=[1, 1, 1, 1], padding='VALID')\n",
    "    conv5 = tf.nn.relu(tf.nn.bias_add(conv5, biases['b_conv5']))\n",
    "    \n",
    "    # Layer 6: Convolutional. Output = 7x7x64.\n",
    "    conv6 = tf.nn.conv2d(conv5, weights['w_conv6'], strides=[1, 1, 1, 1], padding='VALID')\n",
    "    conv6 = tf.nn.relu(tf.nn.bias_add(conv6, biases['b_conv6']))\n",
    "    \n",
    "    # Pooling. Input = 7x7x64. Output = 3x3x64.\n",
    "    conv6 = tf.nn.max_pool(conv6, ksize=[1, 2, 2, 1], strides=[1, 2, 2, 1], padding='VALID')\n",
    "    conv6 = tf.nn.dropout(conv6, keep_prob)\n",
    "    \n",
    "    # Flatten. Input = 3x3x64. Output = 576.\n",
    "    conv_shape = conv6.get_shape().as_list()\n",
    "    reshape = tf.reshape(conv6, [-1, conv_shape[1] * conv_shape[2] * conv_shape[3]])\n",
    "    \n",
    "    # Layer 3: Fully Connected. Input = 576. Output = 256.\n",
    "    dense1 = tf.add(tf.matmul(reshape, weights['w_dense1']), biases['b_dense1'])\n",
    "    dense1 = tf.nn.relu(dense1)\n",
    "    dense1 = tf.nn.dropout(dense1, keep_prob)\n",
    "\n",
    "    # Layer 4: Fully Connected. Input = 256. Output = 128.\n",
    "    dense2 = tf.add(tf.matmul(dense1, weights['w_dense2']), biases['b_dense2'])\n",
    "    dense2 = tf.nn.relu(dense2)\n",
    "    dense2 = tf.nn.dropout(dense2, keep_prob)\n",
    "\n",
    "    # Layer 5: Fully Connected. Input = 128. Output = n_classes.\n",
    "    logits = tf.add(tf.matmul(dense2, weights['w_dense3']), biases['b_dense3'])\n",
    "    \n",
    "    return logits"
   ]
  },
  {
   "cell_type": "code",
   "execution_count": 7,
   "metadata": {
    "collapsed": true
   },
   "outputs": [],
   "source": [
    "x = tf.placeholder(tf.float32, (None, 32, 32, 1))\n",
    "y = tf.placeholder(tf.int32, (None))\n",
    "one_hot_y = tf.one_hot(y, n_classes)\n",
    "\n",
    "keep_prob = tf.placeholder(tf.float32)"
   ]
  },
  {
   "cell_type": "code",
   "execution_count": 8,
   "metadata": {
    "collapsed": true
   },
   "outputs": [],
   "source": [
    "rate = 0.001\n",
    "\n",
    "logits = convNet(x, keep_prob)\n",
    "softmax = tf.nn.softmax(logits)\n",
    "cross_entropy = tf.nn.softmax_cross_entropy_with_logits(labels=one_hot_y, logits=logits)\n",
    "loss_operation = tf.reduce_mean(cross_entropy)\n",
    "optimizer = tf.train.AdamOptimizer(learning_rate = rate)\n",
    "training_operation = optimizer.minimize(loss_operation)"
   ]
  },
  {
   "cell_type": "markdown",
   "metadata": {},
   "source": [
    "### Train, Validate and Test the Model"
   ]
  },
  {
   "cell_type": "markdown",
   "metadata": {},
   "source": [
    "A validation set can be used to assess how well the model is performing. A low accuracy on the training and validation\n",
    "sets imply underfitting. A high accuracy on the training set but low accuracy on the validation set implies overfitting."
   ]
  },
  {
   "cell_type": "code",
   "execution_count": 9,
   "metadata": {
    "collapsed": true
   },
   "outputs": [],
   "source": [
    "correct_prediction = tf.equal(tf.argmax(logits, 1), tf.argmax(one_hot_y, 1))\n",
    "accuracy_operation = tf.reduce_mean(tf.cast(correct_prediction, tf.float32))\n",
    "saver = tf.train.Saver()\n",
    "\n",
    "def evaluate(X_data, y_data):\n",
    "    num_examples = len(X_data)\n",
    "    total_accuracy = 0\n",
    "    sess = tf.get_default_session()\n",
    "    for offset in range(0, num_examples, BATCH_SIZE):\n",
    "        batch_x, batch_y = X_data[offset:offset+BATCH_SIZE], y_data[offset:offset+BATCH_SIZE]\n",
    "        accuracy = sess.run(accuracy_operation, feed_dict={x: batch_x, y: batch_y, keep_prob: 1.0})\n",
    "        total_accuracy += (accuracy * len(batch_x))\n",
    "    return total_accuracy / num_examples"
   ]
  },
  {
   "cell_type": "code",
   "execution_count": 10,
   "metadata": {},
   "outputs": [
    {
     "name": "stdout",
     "output_type": "stream",
     "text": [
      "Training...\n",
      "\n",
      "EPOCH 1 ...\n",
      "Validation Accuracy = 59.116%\n",
      "\n",
      "EPOCH 2 ...\n",
      "Validation Accuracy = 89.660%\n",
      "\n",
      "EPOCH 3 ...\n",
      "Validation Accuracy = 93.900%\n",
      "\n",
      "EPOCH 4 ...\n",
      "Validation Accuracy = 96.213%\n",
      "\n",
      "EPOCH 5 ...\n",
      "Validation Accuracy = 96.304%\n",
      "\n",
      "EPOCH 6 ...\n",
      "Validation Accuracy = 97.642%\n",
      "\n",
      "EPOCH 7 ...\n",
      "Validation Accuracy = 98.231%\n",
      "\n",
      "EPOCH 8 ...\n",
      "Validation Accuracy = 98.254%\n",
      "\n",
      "EPOCH 9 ...\n",
      "Validation Accuracy = 98.118%\n",
      "\n",
      "EPOCH 10 ...\n",
      "Validation Accuracy = 98.277%\n",
      "\n",
      "EPOCH 11 ...\n",
      "Validation Accuracy = 98.186%\n",
      "\n",
      "EPOCH 12 ...\n",
      "Validation Accuracy = 98.458%\n",
      "\n",
      "EPOCH 13 ...\n",
      "Validation Accuracy = 98.662%\n",
      "\n",
      "EPOCH 14 ...\n",
      "Validation Accuracy = 99.002%\n",
      "\n",
      "EPOCH 15 ...\n",
      "Validation Accuracy = 97.959%\n",
      "\n",
      "Model saved\n"
     ]
    }
   ],
   "source": [
    "from sklearn.utils import shuffle\n",
    "\n",
    "EPOCHS = 15\n",
    "BATCH_SIZE = 32\n",
    "DROPOUT = 0.5\n",
    "\n",
    "validation_accuracy = []\n",
    "\n",
    "with tf.Session() as sess:\n",
    "    sess.run(tf.global_variables_initializer())\n",
    "    \n",
    "    print(\"Training...\")\n",
    "    print()\n",
    "    for i in range(EPOCHS):\n",
    "        X_train, y_train = shuffle(X_train, y_train)\n",
    "        for offset in range(0, n_train, BATCH_SIZE):\n",
    "            end = offset + BATCH_SIZE\n",
    "            batch_x, batch_y = X_train[offset:end], y_train[offset:end]\n",
    "            sess.run(training_operation, feed_dict={x: batch_x, y: batch_y, keep_prob: DROPOUT})\n",
    "            \n",
    "        validation_accuracy.append(evaluate(X_valid, y_valid))\n",
    "        print(\"EPOCH {} ...\".format(i+1))\n",
    "        print(\"Validation Accuracy = {:.3f}%\".format(validation_accuracy[-1]*100.0))\n",
    "        print()\n",
    "        \n",
    "    saver.save(sess, './convNet')\n",
    "    print(\"Model saved\")\n",
    "\n"
   ]
  },
  {
   "cell_type": "code",
   "execution_count": 11,
   "metadata": {},
   "outputs": [
    {
     "data": {
      "text/plain": [
       "[<matplotlib.lines.Line2D at 0x7fad6a3c0d30>]"
      ]
     },
     "execution_count": 11,
     "metadata": {},
     "output_type": "execute_result"
    },
    {
     "data": {
      "image/png": "[encoded data removed]",
      "text/plain": [
       "<matplotlib.figure.Figure at 0x7fad7bc84080>"
      ]
     },
     "metadata": {},
     "output_type": "display_data"
    }
   ],
   "source": [
    "# Plot change in validation accuracy w.r.t number of epochs\n",
    "n_epochs = np.arange(1, EPOCHS+1)\n",
    "plt.plot(n_epochs, validation_accuracy)\n"
   ]
  },
  {
   "cell_type": "code",
   "execution_count": 12,
   "metadata": {},
   "outputs": [
    {
     "name": "stdout",
     "output_type": "stream",
     "text": [
      "INFO:tensorflow:Restoring parameters from ./convNet\n",
      "Model restored!\n",
      "\n",
      "Accuracy on test set: 97.134%\n"
     ]
    }
   ],
   "source": [
    "with tf.Session() as sess:\n",
    "    saver.restore(sess, './convNet')\n",
    "    print('Model restored!')\n",
    "    print()\n",
    "    \n",
    "    test_accuracy = evaluate(X_test, y_test)\n",
    "    print('Accuracy on test set: {:.3f}%'.format(test_accuracy*100.0))"
   ]
  },
  {
   "cell_type": "markdown",
   "metadata": {},
   "source": [
    "---\n",
    "\n",
    "## Step 3: Test a Model on New Images"
   ]
  },
  {
   "cell_type": "markdown",
   "metadata": {},
   "source": [
    "### Load and Output the Images"
   ]
  },
  {
   "cell_type": "code",
   "execution_count": 13,
   "metadata": {
    "collapsed": true
   },
   "outputs": [],
   "source": [
    "import os\n",
    "\n",
    "def load_additional_images(folder):\n",
    "    images = []\n",
    "    csv_file = pd.read_csv(os.path.join(folder, 'labels.csv'))\n",
    "    file_names = csv_file.Image.as_matrix()\n",
    "    labels = list(csv_file.Label.as_matrix())\n",
    "    image_labels = []\n",
    "    \n",
    "    for filename in os.listdir(folder):\n",
    "        if filename != 'labels.csv':\n",
    "            img = cv2.imread(os.path.join(folder, filename))\n",
    "            b, g, r = cv2.split(img)\n",
    "            img = cv2.merge([r, g, b])\n",
    "            if img is not None:\n",
    "                img = cv2.resize(img, (image_shape[0], image_shape[1]))\n",
    "                images.append(img)\n",
    "                \n",
    "            index = np.where(file_names==filename)[0][0]\n",
    "            image_labels.append(labels[index])\n",
    "    return np.array(images), np.array(image_labels)"
   ]
  },
  {
   "cell_type": "code",
   "execution_count": 14,
   "metadata": {},
   "outputs": [
    {
     "name": "stdout",
     "output_type": "stream",
     "text": [
      "Loaded 5 Additional Images!\n"
     ]
    },
    {
     "data": {
      "image/png": "[encoded data removed]",
      "text/plain": [
       "<matplotlib.figure.Figure at 0x7fadc8a5ec18>"
      ]
     },
     "metadata": {},
     "output_type": "display_data"
    },
    {
     "data": {
      "image/png": "[encoded data removed]",
      "text/plain": [
       "<matplotlib.figure.Figure at 0x7fad6b061c88>"
      ]
     },
     "metadata": {},
     "output_type": "display_data"
    },
    {
     "data": {
      "image/png": "[encoded data removed]",
      "text/plain": [
       "<matplotlib.figure.Figure at 0x7fad6a341320>"
      ]
     },
     "metadata": {},
     "output_type": "display_data"
    },
    {
     "data": {
      "image/png": "[encoded data removed]",
      "text/plain": [
       "<matplotlib.figure.Figure at 0x7fad6a31f828>"
      ]
     },
     "metadata": {},
     "output_type": "display_data"
    },
    {
     "data": {
      "image/png": "[encoded data removed]",
      "text/plain": [
       "<matplotlib.figure.Figure at 0x7fad6a2e3e48>"
      ]
     },
     "metadata": {},
     "output_type": "display_data"
    }
   ],
   "source": [
    "additional_images_folder = 'Additional Images'\n",
    "\n",
    "add_imgs, labels = load_additional_images(additional_images_folder)\n",
    "n_add_imgs = len(add_imgs)\n",
    "print('Loaded {} Additional Images!'.format(n_add_imgs))\n",
    "\n",
    "for image in range (len(add_imgs)):\n",
    "    plt.figure(figsize=(2,2))\n",
    "    plt.title(labels[image])\n",
    "    plt.imshow(add_imgs[image])\n",
    "    \n",
    "additional_images = rgb_2_gray(add_imgs)\n",
    "additional_images = normalize_gray(additional_images)"
   ]
  },
  {
   "cell_type": "markdown",
   "metadata": {},
   "source": [
    "### Predict the Sign Type for Each Image"
   ]
  },
  {
   "cell_type": "code",
   "execution_count": 15,
   "metadata": {},
   "outputs": [],
   "source": [
    "def prediction(image, label):\n",
    "    image = np.expand_dims(image, 0)\n",
    "    sess = tf.get_default_session()\n",
    "    sm, accuracy = sess.run([softmax, accuracy_operation], feed_dict={x: image, y: [label], keep_prob: 1.0})\n",
    "    return sm, accuracy\n",
    "\n",
    "def get_top_k_softmax(softmax, k):\n",
    "    sess = tf.get_default_session()\n",
    "    top_k = sess.run(tf.nn.top_k(tf.constant(softmax), k=k))\n",
    "    return top_k"
   ]
  },
  {
   "cell_type": "code",
   "execution_count": 16,
   "metadata": {},
   "outputs": [
    {
     "name": "stdout",
     "output_type": "stream",
     "text": [
      "INFO:tensorflow:Restoring parameters from ./convNet\n",
      "Model restored!\n",
      "Actual label: 22, Top 5 predicted labels: [22 18 29 26 20]\n",
      "Actual label: 17, Top 5 predicted labels: [17 12 14 39 22]\n",
      "Actual label: 13, Top 5 predicted labels: [13 10 38  5  2]\n",
      "Actual label: 14, Top 5 predicted labels: [14 38 34  3 33]\n",
      "Actual label: 23, Top 5 predicted labels: [23 20 30 29 11]\n"
     ]
    },
    {
     "data": {
      "image/png": "[encoded data removed]",
      "text/plain": [
       "<matplotlib.figure.Figure at 0x7fad6b076438>"
      ]
     },
     "metadata": {},
     "output_type": "display_data"
    },
    {
     "data": {
      "image/png": "[encoded data removed]",
      "text/plain": [
       "<matplotlib.figure.Figure at 0x7fad697daef0>"
      ]
     },
     "metadata": {},
     "output_type": "display_data"
    },
    {
     "data": {
      "image/png": "[encoded data removed]",
      "text/plain": [
       "<matplotlib.figure.Figure at 0x7fad697a6ef0>"
      ]
     },
     "metadata": {},
     "output_type": "display_data"
    },
    {
     "data": {
      "image/png": "[encoded data removed]",
      "text/plain": [
       "<matplotlib.figure.Figure at 0x7fad69709f28>"
      ]
     },
     "metadata": {},
     "output_type": "display_data"
    },
    {
     "data": {
      "image/png": "[encoded data removed]",
      "text/plain": [
       "<matplotlib.figure.Figure at 0x7fad696e0a20>"
      ]
     },
     "metadata": {},
     "output_type": "display_data"
    }
   ],
   "source": [
    "k = 5\n",
    "total_accuracy = 0\n",
    "\n",
    "with tf.Session() as sess:\n",
    "    saver.restore(sess, './convNet')\n",
    "    print('Model restored!')\n",
    "\n",
    "    for i in range(n_add_imgs):\n",
    "        sm, accuracy = prediction(additional_images[i], labels[i])\n",
    "        total_accuracy += accuracy\n",
    "        if accuracy == 1:\n",
    "            plt.figure(figsize=(2,2))\n",
    "            plt.title(label_names[labels[i]])\n",
    "            plt.imshow(add_imgs[i])\n",
    "\n",
    "        print('Actual label: {}, Top {} predicted labels: {}'.format(labels[i], k, get_top_k_softmax(sm, k)[1][0]))"
   ]
  },
  {
   "cell_type": "markdown",
   "metadata": {},
   "source": [
    "### Analyze Performance"
   ]
  },
  {
   "cell_type": "code",
   "execution_count": 17,
   "metadata": {},
   "outputs": [
    {
     "name": "stdout",
     "output_type": "stream",
     "text": [
      "Total additional images used: 5\n",
      "No. of correct predictions: 5, No. of incorrect predictions: 0\n",
      "Overall accuracy: 100.0%\n"
     ]
    }
   ],
   "source": [
    "print('Total additional images used: {}'.format(n_add_imgs))\n",
    "print('No. of correct predictions: {}, No. of incorrect predictions: {}'.format(int(total_accuracy), int(total_accuracy-n_add_imgs)))\n",
    "print('Overall accuracy: {}%'.format(total_accuracy*100/n_add_imgs))"
   ]
  },
  {
   "cell_type": "markdown",
   "metadata": {},
   "source": [
    "---\n",
    "\n",
    "## Step 4 (Optional): Visualize the Neural Network's State with Test Images\n",
    "\n",
    " This Section is not required to complete but acts as an additional excersise for understaning the output of a neural network's weights. While neural networks can be a great learning device they are often referred to as a black box. We can understand what the weights of a neural network look like better by plotting their feature maps. After successfully training your neural network you can see what it's feature maps look like by plotting the output of the network's weight layers in response to a test stimuli image. From these plotted feature maps, it's possible to see what characteristics of an image the network finds interesting. For a sign, maybe the inner network feature maps react with high activation to the sign's boundary outline or to the contrast in the sign's painted symbol.\n",
    "\n",
    " Provided for you below is the function code that allows you to get the visualization output of any tensorflow weight layer you want. The inputs to the function should be a stimuli image, one used during training or a new one you provided, and then the tensorflow variable name that represents the layer's state during the training process, for instance if you wanted to see what the [LeNet lab's](https://classroom.udacity.com/nanodegrees/nd013/parts/fbf77062-5703-404e-b60c-95b78b2f3f9e/modules/6df7ae49-c61c-4bb2-a23e-6527e69209ec/lessons/601ae704-1035-4287-8b11-e2c2716217ad/concepts/d4aca031-508f-4e0b-b493-e7b706120f81) feature maps looked like for it's second convolutional layer you could enter conv2 as the tf_activation variable.\n",
    "\n",
    "For an example of what feature map outputs look like, check out NVIDIA's results in their paper [End-to-End Deep Learning for Self-Driving Cars](https://devblogs.nvidia.com/parallelforall/deep-learning-self-driving-cars/) in the section Visualization of internal CNN State. NVIDIA was able to show that their network's inner weights had high activations to road boundary lines by comparing feature maps from an image with a clear path to one without. Try experimenting with a similar test to show that your trained network's weights are looking for interesting features, whether it's looking at differences in feature maps from images with or without a sign, or even what feature maps look like in a trained network vs a completely untrained one on the same sign image.\n",
    "\n",
    "<figure>\n",
    " <img src=\"visualize_cnn.png\" width=\"380\" alt=\"Combined Image\" />\n",
    " <figcaption>\n",
    " <p></p> \n",
    " <p style=\"text-align: center;\"> Your output should look something like this (above)</p> \n",
    " </figcaption>\n",
    "</figure>\n",
    " <p></p> \n"
   ]
  },
  {
   "cell_type": "code",
   "execution_count": 18,
   "metadata": {
    "collapsed": true
   },
   "outputs": [],
   "source": [
    "### Visualize your network's feature maps here.\n",
    "### Feel free to use as many code cells as needed.\n",
    "\n",
    "# image_input: the test image being fed into the network to produce the feature maps\n",
    "# tf_activation: should be a tf variable name used during your training procedure that represents the calculated state of a specific weight layer\n",
    "# activation_min/max: can be used to view the activation contrast in more detail, by default matplot sets min and max to the actual min and max values of the output\n",
    "# plt_num: used to plot out multiple different weight feature map sets on the same block, just extend the plt number for each new feature map entry\n",
    "\n",
    "def outputFeatureMap(image_input, tf_activation, activation_min=-1, activation_max=-1 ,plt_num=1):\n",
    "    # Here make sure to preprocess your image_input in a way your network expects\n",
    "    # with size, normalization, ect if needed\n",
    "    # image_input =\n",
    "    # Note: x should be the same name as your network's tensorflow data placeholder variable\n",
    "    # If you get an error tf_activation is not defined it may be having trouble accessing the variable from inside a function\n",
    "    activation = tf_activation.eval(session=sess,feed_dict={x : image_input})\n",
    "    featuremaps = activation.shape[3]\n",
    "    plt.figure(plt_num, figsize=(15,15))\n",
    "    for featuremap in range(featuremaps):\n",
    "        plt.subplot(6,8, featuremap+1) # sets the number of feature maps to show on each row and column\n",
    "        plt.title('FeatureMap ' + str(featuremap)) # displays the feature map number\n",
    "        if activation_min != -1 & activation_max != -1:\n",
    "            plt.imshow(activation[0,:,:, featuremap], interpolation=\"nearest\", vmin =activation_min, vmax=activation_max, cmap=\"gray\")\n",
    "        elif activation_max != -1:\n",
    "            plt.imshow(activation[0,:,:, featuremap], interpolation=\"nearest\", vmax=activation_max, cmap=\"gray\")\n",
    "        elif activation_min !=-1:\n",
    "            plt.imshow(activation[0,:,:, featuremap], interpolation=\"nearest\", vmin=activation_min, cmap=\"gray\")\n",
    "        else:\n",
    "            plt.imshow(activation[0,:,:, featuremap], interpolation=\"nearest\", cmap=\"gray\")"
   ]
  }
 ],
 "metadata": {
  "anaconda-cloud": {},
  "kernelspec": {
   "display_name": "Environment (conda_rl)",
   "language": "python",
   "name": "conda_rl"
  },
  "language_info": {
   "codemirror_mode": {
    "name": "ipython",
    "version": 3
   },
   "file_extension": ".py",
   "mimetype": "text/x-python",
   "name": "python",
   "nbconvert_exporter": "python",
   "pygments_lexer": "ipython3",
   "version": "3.5.3"
  }
 },
 "nbformat": 4,
 "nbformat_minor": 1
}
